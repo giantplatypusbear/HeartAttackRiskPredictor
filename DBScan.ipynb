{
 "cells": [
  {
   "cell_type": "code",
   "execution_count": 3,
   "id": "a41de2b9",
   "metadata": {},
   "outputs": [
    {
     "name": "stdout",
     "output_type": "stream",
     "text": [
      "Estimated number of clusters: 107\n",
      "Estimated number of noise points: 1766\n"
     ]
    }
   ],
   "source": [
    "from sklearn.cluster import DBSCAN\n",
    "import pandas as pd\n",
    "data = pd.read_csv('C:\\\\Users\\\\Rithi\\\\Downloads\\\\preprocessedHeartAttack_data.csv')\n",
    "\n",
    "\n",
    "X = data[['Cholesterol',  'Exercise Hours Per Week',  'Sedentary Hours Per Day', 'BMI', 'Triglycerides', 'Physical Activity Days Per Week']]\n",
    "\n",
    "dbscan = DBSCAN(eps=0.5, min_samples=5)\n",
    "\n",
    "\n",
    "dbscan.fit(X)\n",
    "\n",
    "\n",
    "cluster_labels = dbscan.labels_\n",
    "\n",
    "\n",
    "n_clusters = len(set(cluster_labels)) - (1 if -1 in cluster_labels else 0)\n",
    "n_noise = list(cluster_labels).count(-1)\n",
    "print('Estimated number of clusters:', n_clusters)\n",
    "print('Estimated number of noise points:', n_noise)\n"
   ]
  },
  {
   "cell_type": "code",
   "execution_count": null,
   "id": "4805b522",
   "metadata": {},
   "outputs": [],
   "source": []
  }
 ],
 "metadata": {
  "kernelspec": {
   "display_name": "Python 3 (ipykernel)",
   "language": "python",
   "name": "python3"
  },
  "language_info": {
   "codemirror_mode": {
    "name": "ipython",
    "version": 3
   },
   "file_extension": ".py",
   "mimetype": "text/x-python",
   "name": "python",
   "nbconvert_exporter": "python",
   "pygments_lexer": "ipython3",
   "version": "3.9.13"
  }
 },
 "nbformat": 4,
 "nbformat_minor": 5
}
