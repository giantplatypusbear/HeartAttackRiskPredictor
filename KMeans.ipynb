{
 "cells": [
  {
   "cell_type": "code",
   "execution_count": 1,
   "id": "839b96c9",
   "metadata": {},
   "outputs": [
    {
     "name": "stdout",
     "output_type": "stream",
     "text": [
      "   Age  Sex  Cholesterol  Heart Rate  Diabetes  Family History  Smoking  \\\n",
      "0   67    0    -0.369565   -0.083333         0               0        1   \n",
      "1   21    0     0.942029    0.638889         1               1        1   \n",
      "2   21    1     0.471014   -0.083333         1               0        0   \n",
      "3   84    0     0.898551   -0.055556         1               1        1   \n",
      "4   66    0     0.427536    0.500000         1               1        1   \n",
      "\n",
      "   Obesity  Alcohol Consumption  Exercise Hours Per Week  ...  Stress Level  \\\n",
      "0        0                    0                -0.586126  ...             9   \n",
      "1        1                    1                -0.820020  ...             1   \n",
      "2        0                    0                -0.793689  ...             9   \n",
      "3        0                    1                -0.023979  ...             9   \n",
      "4        1                    0                -0.423627  ...             6   \n",
      "\n",
      "   Sedentary Hours Per Day       BMI  Triglycerides  \\\n",
      "0                 0.113180  0.227694      -0.338939   \n",
      "1                -0.161148 -0.144385      -0.470893   \n",
      "2                 0.586314 -0.054343       0.439845   \n",
      "3                 0.284928  0.705924      -0.100906   \n",
      "4                -0.733980 -0.638425      -0.481242   \n",
      "\n",
      "   Physical Activity Days Per Week  Sleep Hours Per Day  Heart Attack Risk  \\\n",
      "0                                0                -0.25                  0   \n",
      "1                                1                 0.00                  0   \n",
      "2                                4                -0.75                  0   \n",
      "3                                3                -0.75                  0   \n",
      "4                                1                -0.50                  0   \n",
      "\n",
      "   Systolic  Diastolic  Cluster  \n",
      "0  0.500000   0.115385        0  \n",
      "1  0.652174   0.307692        1  \n",
      "2  0.847826   0.538462        1  \n",
      "3  0.608696   0.576923        0  \n",
      "4 -0.956522   0.115385        0  \n",
      "\n",
      "[5 rows x 23 columns]\n"
     ]
    }
   ],
   "source": [
    "from sklearn.cluster import KMeans\n",
    "import pandas as pd\n",
    "\n",
    "# Load the preprocessed data\n",
    "data = pd.read_csv('C:\\\\Users\\\\Rithi\\\\Downloads\\\\preprocessedHeartAttack_data.csv')\n",
    "\n",
    "# Select features for clustering\n",
    "X = data[['Age', 'Sex', 'Cholesterol', 'Heart Rate', 'Diabetes', 'Family History', 'Smoking', 'Obesity',\n",
    "          'Alcohol Consumption', 'Exercise Hours Per Week', 'Diet', 'Previous Heart Problems', 'Medication Use',\n",
    "          'Stress Level', 'Sedentary Hours Per Day', 'BMI', 'Triglycerides', 'Physical Activity Days Per Week',\n",
    "          'Sleep Hours Per Day', 'Systolic', 'Diastolic']]\n",
    "\n",
    "# Specify the number of clusters\n",
    "num_clusters = 2\n",
    "\n",
    "# Initialize K-Means model\n",
    "kmeans = KMeans(n_clusters=num_clusters, random_state=42)\n",
    "\n",
    "# Fit K-Means model to the data\n",
    "kmeans.fit(X)\n",
    "\n",
    "# Get cluster labels\n",
    "cluster_labels = kmeans.labels_\n",
    "\n",
    "# Add cluster labels to the DataFrame\n",
    "data['Cluster'] = cluster_labels\n",
    "\n",
    "# Display the first few rows of the DataFrame with cluster labels\n",
    "print(data.head())\n"
   ]
  },
  {
   "cell_type": "code",
   "execution_count": 2,
   "id": "0314efd9",
   "metadata": {},
   "outputs": [
    {
     "data": {
      "image/png": "[encoded data removed]",
      "text/plain": [
       "<Figure size 1000x600 with 1 Axes>"
      ]
     },
     "metadata": {},
     "output_type": "display_data"
    }
   ],
   "source": [
    "import matplotlib.pyplot as plt\n",
    "\n",
    "# Group data by cluster and heart attack risk, and count occurrences\n",
    "cluster_heart_attack_count = data.groupby(['Cluster', 'Heart Attack Risk']).size().unstack(fill_value=0)\n",
    "\n",
    "# Plot a stacked bar chart\n",
    "cluster_heart_attack_count.plot(kind='bar', stacked=True, figsize=(10, 6))\n",
    "plt.title('Heart Attack Risk Distribution by Cluster')\n",
    "plt.xlabel('Cluster')\n",
    "plt.ylabel('Count')\n",
    "plt.xticks(rotation=0)\n",
    "plt.legend(title='Heart Attack Risk')\n",
    "plt.show()\n"
   ]
  },
  {
   "cell_type": "code",
   "execution_count": 3,
   "id": "fa7c31ca",
   "metadata": {},
   "outputs": [
    {
     "name": "stdout",
     "output_type": "stream",
     "text": [
      "Accuracy of K-Means clustering: 0.6417893415496976\n"
     ]
    }
   ],
   "source": [
    "from sklearn.metrics import accuracy_score\n",
    "\n",
    "\n",
    "y_true = data['Heart Attack Risk']\n",
    "\n",
    "\n",
    "y_pred = data['Cluster']\n",
    "\n",
    "\n",
    "cluster_to_label = {\n",
    "    0: y_true[data['Cluster'] == 0].mode()[0],\n",
    "    1: y_true[data['Cluster'] == 1].mode()[0],\n",
    "    \n",
    "}\n",
    "\n",
    "# Map predicted cluster labels to true labels using the mapping\n",
    "y_pred_mapped = y_pred.map(cluster_to_label)\n",
    "\n",
    "# Calculate accuracy\n",
    "accuracy = accuracy_score(y_true, y_pred_mapped)\n",
    "\n",
    "print(\"Accuracy of K-Means clustering:\", accuracy)\n"
   ]
  },
  {
   "cell_type": "code",
   "execution_count": null,
   "id": "21147414",
   "metadata": {},
   "outputs": [],
   "source": []
  }
 ],
 "metadata": {
  "kernelspec": {
   "display_name": "Python 3 (ipykernel)",
   "language": "python",
   "name": "python3"
  },
  "language_info": {
   "codemirror_mode": {
    "name": "ipython",
    "version": 3
   },
   "file_extension": ".py",
   "mimetype": "text/x-python",
   "name": "python",
   "nbconvert_exporter": "python",
   "pygments_lexer": "ipython3",
   "version": "3.9.13"
  }
 },
 "nbformat": 4,
 "nbformat_minor": 5
}
