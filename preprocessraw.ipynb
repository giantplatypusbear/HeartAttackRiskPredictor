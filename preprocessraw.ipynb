{
 "cells": [
  {
   "cell_type": "code",
   "execution_count": null,
   "id": "07c95b89",
   "metadata": {},
   "outputs": [],
   "source": []
  },
  {
   "cell_type": "code",
   "execution_count": 5,
   "id": "ce12847d",
   "metadata": {},
   "outputs": [
    {
     "name": "stdout",
     "output_type": "stream",
     "text": [
      "  Patient ID  Age     Sex  Cholesterol Blood Pressure  Heart Rate  Diabetes  \\\n",
      "0    BMW7812   67    Male          208         158/88          72         0   \n",
      "1    CZE1114   21    Male          389         165/93          98         1   \n",
      "2    BNI9906   21  Female          324         174/99          72         1   \n",
      "3    JLN3497   84    Male          383        163/100          73         1   \n",
      "4    GFO8847   66    Male          318          91/88          93         1   \n",
      "\n",
      "   Family History  Smoking  Obesity  ...        BMI  Triglycerides  \\\n",
      "0               0        1        0  ...  31.251233            286   \n",
      "1               1        1        1  ...  27.194973            235   \n",
      "2               0        0        0  ...  28.176571            587   \n",
      "3               1        1        0  ...  36.464704            378   \n",
      "4               1        1        1  ...  21.809144            231   \n",
      "\n",
      "  Physical Activity Days Per Week  Sleep Hours Per Day    Country  \\\n",
      "0                               0                    6  Argentina   \n",
      "1                               1                    7     Canada   \n",
      "2                               4                    4     France   \n",
      "3                               3                    4     Canada   \n",
      "4                               1                    5   Thailand   \n",
      "\n",
      "       Continent           Hemisphere  Heart Attack Risk  Systolic  Diastolic  \n",
      "0  South America  Southern Hemisphere                  0       158         88  \n",
      "1  North America  Northern Hemisphere                  0       165         93  \n",
      "2         Europe  Northern Hemisphere                  0       174         99  \n",
      "3  North America  Northern Hemisphere                  0       163        100  \n",
      "4           Asia  Northern Hemisphere                  0        91         88  \n",
      "\n",
      "[5 rows x 28 columns]\n"
     ]
    }
   ],
   "source": [
    "import pandas as pd\n",
    "\n",
    "df = pd.read_csv('C:\\\\Users\\\\Rithi\\\\Downloads\\\\Datamining final\\\\heart_attack_prediction_dataset.csv')\n",
    "\n",
    "df[['Systolic', 'Diastolic']] = df['Blood Pressure'].str.split('/', expand=True).astype(int)\n",
    "\n",
    "\n",
    "print(df.head())\n",
    "\n"
   ]
  },
  {
   "cell_type": "code",
   "execution_count": 7,
   "id": "d9affabb",
   "metadata": {},
   "outputs": [
    {
     "ename": "KeyError",
     "evalue": "\"['Blood Pressure'] not found in axis\"",
     "output_type": "error",
     "traceback": [
      "\u001b[1;31m---------------------------------------------------------------------------\u001b[0m",
      "\u001b[1;31mKeyError\u001b[0m                                  Traceback (most recent call last)",
      "\u001b[1;32m~\\AppData\\Local\\Temp\\ipykernel_25700\\4281107332.py\u001b[0m in \u001b[0;36m<module>\u001b[1;34m\u001b[0m\n\u001b[1;32m----> 1\u001b[1;33m \u001b[0mdf\u001b[0m\u001b[1;33m.\u001b[0m\u001b[0mdrop\u001b[0m\u001b[1;33m(\u001b[0m\u001b[0mcolumns\u001b[0m\u001b[1;33m=\u001b[0m\u001b[1;33m[\u001b[0m\u001b[1;34m'Blood Pressure'\u001b[0m\u001b[1;33m]\u001b[0m\u001b[1;33m,\u001b[0m \u001b[0minplace\u001b[0m\u001b[1;33m=\u001b[0m\u001b[1;32mTrue\u001b[0m\u001b[1;33m)\u001b[0m\u001b[1;33m\u001b[0m\u001b[1;33m\u001b[0m\u001b[0m\n\u001b[0m\u001b[0;32m      2\u001b[0m \u001b[1;33m\u001b[0m\u001b[0m\n\u001b[0;32m      3\u001b[0m \u001b[0mcolumns\u001b[0m \u001b[1;33m=\u001b[0m \u001b[0mdf\u001b[0m\u001b[1;33m.\u001b[0m\u001b[0mcolumns\u001b[0m\u001b[1;33m.\u001b[0m\u001b[0mtolist\u001b[0m\u001b[1;33m(\u001b[0m\u001b[1;33m)\u001b[0m\u001b[1;33m\u001b[0m\u001b[1;33m\u001b[0m\u001b[0m\n\u001b[0;32m      4\u001b[0m \u001b[1;33m\u001b[0m\u001b[0m\n\u001b[0;32m      5\u001b[0m \u001b[1;33m\u001b[0m\u001b[0m\n",
      "\u001b[1;32m~\\anaconda3\\lib\\site-packages\\pandas\\util\\_decorators.py\u001b[0m in \u001b[0;36mwrapper\u001b[1;34m(*args, **kwargs)\u001b[0m\n\u001b[0;32m    309\u001b[0m                     \u001b[0mstacklevel\u001b[0m\u001b[1;33m=\u001b[0m\u001b[0mstacklevel\u001b[0m\u001b[1;33m,\u001b[0m\u001b[1;33m\u001b[0m\u001b[1;33m\u001b[0m\u001b[0m\n\u001b[0;32m    310\u001b[0m                 )\n\u001b[1;32m--> 311\u001b[1;33m             \u001b[1;32mreturn\u001b[0m \u001b[0mfunc\u001b[0m\u001b[1;33m(\u001b[0m\u001b[1;33m*\u001b[0m\u001b[0margs\u001b[0m\u001b[1;33m,\u001b[0m \u001b[1;33m**\u001b[0m\u001b[0mkwargs\u001b[0m\u001b[1;33m)\u001b[0m\u001b[1;33m\u001b[0m\u001b[1;33m\u001b[0m\u001b[0m\n\u001b[0m\u001b[0;32m    312\u001b[0m \u001b[1;33m\u001b[0m\u001b[0m\n\u001b[0;32m    313\u001b[0m         \u001b[1;32mreturn\u001b[0m \u001b[0mwrapper\u001b[0m\u001b[1;33m\u001b[0m\u001b[1;33m\u001b[0m\u001b[0m\n",
      "\u001b[1;32m~\\anaconda3\\lib\\site-packages\\pandas\\core\\frame.py\u001b[0m in \u001b[0;36mdrop\u001b[1;34m(self, labels, axis, index, columns, level, inplace, errors)\u001b[0m\n\u001b[0;32m   4955\u001b[0m                 \u001b[0mweight\u001b[0m  \u001b[1;36m1.0\u001b[0m     \u001b[1;36m0.8\u001b[0m\u001b[1;33m\u001b[0m\u001b[1;33m\u001b[0m\u001b[0m\n\u001b[0;32m   4956\u001b[0m         \"\"\"\n\u001b[1;32m-> 4957\u001b[1;33m         return super().drop(\n\u001b[0m\u001b[0;32m   4958\u001b[0m             \u001b[0mlabels\u001b[0m\u001b[1;33m=\u001b[0m\u001b[0mlabels\u001b[0m\u001b[1;33m,\u001b[0m\u001b[1;33m\u001b[0m\u001b[1;33m\u001b[0m\u001b[0m\n\u001b[0;32m   4959\u001b[0m             \u001b[0maxis\u001b[0m\u001b[1;33m=\u001b[0m\u001b[0maxis\u001b[0m\u001b[1;33m,\u001b[0m\u001b[1;33m\u001b[0m\u001b[1;33m\u001b[0m\u001b[0m\n",
      "\u001b[1;32m~\\anaconda3\\lib\\site-packages\\pandas\\core\\generic.py\u001b[0m in \u001b[0;36mdrop\u001b[1;34m(self, labels, axis, index, columns, level, inplace, errors)\u001b[0m\n\u001b[0;32m   4265\u001b[0m         \u001b[1;32mfor\u001b[0m \u001b[0maxis\u001b[0m\u001b[1;33m,\u001b[0m \u001b[0mlabels\u001b[0m \u001b[1;32min\u001b[0m \u001b[0maxes\u001b[0m\u001b[1;33m.\u001b[0m\u001b[0mitems\u001b[0m\u001b[1;33m(\u001b[0m\u001b[1;33m)\u001b[0m\u001b[1;33m:\u001b[0m\u001b[1;33m\u001b[0m\u001b[1;33m\u001b[0m\u001b[0m\n\u001b[0;32m   4266\u001b[0m             \u001b[1;32mif\u001b[0m \u001b[0mlabels\u001b[0m \u001b[1;32mis\u001b[0m \u001b[1;32mnot\u001b[0m \u001b[1;32mNone\u001b[0m\u001b[1;33m:\u001b[0m\u001b[1;33m\u001b[0m\u001b[1;33m\u001b[0m\u001b[0m\n\u001b[1;32m-> 4267\u001b[1;33m                 \u001b[0mobj\u001b[0m \u001b[1;33m=\u001b[0m \u001b[0mobj\u001b[0m\u001b[1;33m.\u001b[0m\u001b[0m_drop_axis\u001b[0m\u001b[1;33m(\u001b[0m\u001b[0mlabels\u001b[0m\u001b[1;33m,\u001b[0m \u001b[0maxis\u001b[0m\u001b[1;33m,\u001b[0m \u001b[0mlevel\u001b[0m\u001b[1;33m=\u001b[0m\u001b[0mlevel\u001b[0m\u001b[1;33m,\u001b[0m \u001b[0merrors\u001b[0m\u001b[1;33m=\u001b[0m\u001b[0merrors\u001b[0m\u001b[1;33m)\u001b[0m\u001b[1;33m\u001b[0m\u001b[1;33m\u001b[0m\u001b[0m\n\u001b[0m\u001b[0;32m   4268\u001b[0m \u001b[1;33m\u001b[0m\u001b[0m\n\u001b[0;32m   4269\u001b[0m         \u001b[1;32mif\u001b[0m \u001b[0minplace\u001b[0m\u001b[1;33m:\u001b[0m\u001b[1;33m\u001b[0m\u001b[1;33m\u001b[0m\u001b[0m\n",
      "\u001b[1;32m~\\anaconda3\\lib\\site-packages\\pandas\\core\\generic.py\u001b[0m in \u001b[0;36m_drop_axis\u001b[1;34m(self, labels, axis, level, errors, consolidate, only_slice)\u001b[0m\n\u001b[0;32m   4309\u001b[0m                 \u001b[0mnew_axis\u001b[0m \u001b[1;33m=\u001b[0m \u001b[0maxis\u001b[0m\u001b[1;33m.\u001b[0m\u001b[0mdrop\u001b[0m\u001b[1;33m(\u001b[0m\u001b[0mlabels\u001b[0m\u001b[1;33m,\u001b[0m \u001b[0mlevel\u001b[0m\u001b[1;33m=\u001b[0m\u001b[0mlevel\u001b[0m\u001b[1;33m,\u001b[0m \u001b[0merrors\u001b[0m\u001b[1;33m=\u001b[0m\u001b[0merrors\u001b[0m\u001b[1;33m)\u001b[0m\u001b[1;33m\u001b[0m\u001b[1;33m\u001b[0m\u001b[0m\n\u001b[0;32m   4310\u001b[0m             \u001b[1;32melse\u001b[0m\u001b[1;33m:\u001b[0m\u001b[1;33m\u001b[0m\u001b[1;33m\u001b[0m\u001b[0m\n\u001b[1;32m-> 4311\u001b[1;33m                 \u001b[0mnew_axis\u001b[0m \u001b[1;33m=\u001b[0m \u001b[0maxis\u001b[0m\u001b[1;33m.\u001b[0m\u001b[0mdrop\u001b[0m\u001b[1;33m(\u001b[0m\u001b[0mlabels\u001b[0m\u001b[1;33m,\u001b[0m \u001b[0merrors\u001b[0m\u001b[1;33m=\u001b[0m\u001b[0merrors\u001b[0m\u001b[1;33m)\u001b[0m\u001b[1;33m\u001b[0m\u001b[1;33m\u001b[0m\u001b[0m\n\u001b[0m\u001b[0;32m   4312\u001b[0m             \u001b[0mindexer\u001b[0m \u001b[1;33m=\u001b[0m \u001b[0maxis\u001b[0m\u001b[1;33m.\u001b[0m\u001b[0mget_indexer\u001b[0m\u001b[1;33m(\u001b[0m\u001b[0mnew_axis\u001b[0m\u001b[1;33m)\u001b[0m\u001b[1;33m\u001b[0m\u001b[1;33m\u001b[0m\u001b[0m\n\u001b[0;32m   4313\u001b[0m \u001b[1;33m\u001b[0m\u001b[0m\n",
      "\u001b[1;32m~\\anaconda3\\lib\\site-packages\\pandas\\core\\indexes\\base.py\u001b[0m in \u001b[0;36mdrop\u001b[1;34m(self, labels, errors)\u001b[0m\n\u001b[0;32m   6659\u001b[0m         \u001b[1;32mif\u001b[0m \u001b[0mmask\u001b[0m\u001b[1;33m.\u001b[0m\u001b[0many\u001b[0m\u001b[1;33m(\u001b[0m\u001b[1;33m)\u001b[0m\u001b[1;33m:\u001b[0m\u001b[1;33m\u001b[0m\u001b[1;33m\u001b[0m\u001b[0m\n\u001b[0;32m   6660\u001b[0m             \u001b[1;32mif\u001b[0m \u001b[0merrors\u001b[0m \u001b[1;33m!=\u001b[0m \u001b[1;34m\"ignore\"\u001b[0m\u001b[1;33m:\u001b[0m\u001b[1;33m\u001b[0m\u001b[1;33m\u001b[0m\u001b[0m\n\u001b[1;32m-> 6661\u001b[1;33m                 \u001b[1;32mraise\u001b[0m \u001b[0mKeyError\u001b[0m\u001b[1;33m(\u001b[0m\u001b[1;34mf\"{list(labels[mask])} not found in axis\"\u001b[0m\u001b[1;33m)\u001b[0m\u001b[1;33m\u001b[0m\u001b[1;33m\u001b[0m\u001b[0m\n\u001b[0m\u001b[0;32m   6662\u001b[0m             \u001b[0mindexer\u001b[0m \u001b[1;33m=\u001b[0m \u001b[0mindexer\u001b[0m\u001b[1;33m[\u001b[0m\u001b[1;33m~\u001b[0m\u001b[0mmask\u001b[0m\u001b[1;33m]\u001b[0m\u001b[1;33m\u001b[0m\u001b[1;33m\u001b[0m\u001b[0m\n\u001b[0;32m   6663\u001b[0m         \u001b[1;32mreturn\u001b[0m \u001b[0mself\u001b[0m\u001b[1;33m.\u001b[0m\u001b[0mdelete\u001b[0m\u001b[1;33m(\u001b[0m\u001b[0mindexer\u001b[0m\u001b[1;33m)\u001b[0m\u001b[1;33m\u001b[0m\u001b[1;33m\u001b[0m\u001b[0m\n",
      "\u001b[1;31mKeyError\u001b[0m: \"['Blood Pressure'] not found in axis\""
     ]
    }
   ],
   "source": [
    "\n",
    "df.drop(columns=['Blood Pressure'], inplace=True)\n",
    "\n"
   ]
  },
  {
   "cell_type": "code",
   "execution_count": 8,
   "id": "f70fd444",
   "metadata": {
    "scrolled": true
   },
   "outputs": [
    {
     "name": "stdout",
     "output_type": "stream",
     "text": [
      "  Patient ID  Age     Sex  Cholesterol  Heart Rate  Diabetes  Family History  \\\n",
      "0    BMW7812   67    Male          208          72         0               0   \n",
      "1    CZE1114   21    Male          389          98         1               1   \n",
      "2    BNI9906   21  Female          324          72         1               0   \n",
      "3    JLN3497   84    Male          383          73         1               1   \n",
      "4    GFO8847   66    Male          318          93         1               1   \n",
      "\n",
      "   Smoking  Obesity  Alcohol Consumption  ...        BMI Triglycerides  \\\n",
      "0        1        0                    0  ...  31.251233           286   \n",
      "1        1        1                    1  ...  27.194973           235   \n",
      "2        0        0                    0  ...  28.176571           587   \n",
      "3        1        0                    1  ...  36.464704           378   \n",
      "4        1        1                    0  ...  21.809144           231   \n",
      "\n",
      "   Physical Activity Days Per Week  Sleep Hours Per Day    Country  \\\n",
      "0                                0                    6  Argentina   \n",
      "1                                1                    7     Canada   \n",
      "2                                4                    4     France   \n",
      "3                                3                    4     Canada   \n",
      "4                                1                    5   Thailand   \n",
      "\n",
      "       Continent           Hemisphere  Heart Attack Risk  Systolic  Diastolic  \n",
      "0  South America  Southern Hemisphere                  0       158         88  \n",
      "1  North America  Northern Hemisphere                  0       165         93  \n",
      "2         Europe  Northern Hemisphere                  0       174         99  \n",
      "3  North America  Northern Hemisphere                  0       163        100  \n",
      "4           Asia  Northern Hemisphere                  0        91         88  \n",
      "\n",
      "[5 rows x 27 columns]\n"
     ]
    }
   ],
   "source": [
    "print(df.head())\n"
   ]
  },
  {
   "cell_type": "code",
   "execution_count": 9,
   "id": "b6e89702",
   "metadata": {},
   "outputs": [
    {
     "name": "stdout",
     "output_type": "stream",
     "text": [
      "  Patient ID  Age     Sex  Cholesterol  Heart Rate  Diabetes  Family History  \\\n",
      "0    BMW7812   67    Male          208          72         0               0   \n",
      "1    CZE1114   21    Male          389          98         1               1   \n",
      "2    BNI9906   21  Female          324          72         1               0   \n",
      "3    JLN3497   84    Male          383          73         1               1   \n",
      "4    GFO8847   66    Male          318          93         1               1   \n",
      "\n",
      "   Smoking  Obesity  Alcohol Consumption  ...  Sedentary Hours Per Day  \\\n",
      "0        1        0                    0  ...                 6.615001   \n",
      "1        1        1                    1  ...                 4.963459   \n",
      "2        0        0                    0  ...                 9.463426   \n",
      "3        1        0                    1  ...                 7.648981   \n",
      "4        1        1                    0  ...                 1.514821   \n",
      "\n",
      "   Income        BMI  Triglycerides  Physical Activity Days Per Week  \\\n",
      "0  261404  31.251233            286                                0   \n",
      "1  285768  27.194973            235                                1   \n",
      "2  235282  28.176571            587                                4   \n",
      "3  125640  36.464704            378                                3   \n",
      "4  160555  21.809144            231                                1   \n",
      "\n",
      "   Sleep Hours Per Day    Country  Heart Attack Risk  Systolic  Diastolic  \n",
      "0                    6  Argentina                  0       158         88  \n",
      "1                    7     Canada                  0       165         93  \n",
      "2                    4     France                  0       174         99  \n",
      "3                    4     Canada                  0       163        100  \n",
      "4                    5   Thailand                  0        91         88  \n",
      "\n",
      "[5 rows x 25 columns]\n"
     ]
    }
   ],
   "source": [
    "df.drop(columns=['Hemisphere','Continent'], inplace=True)\n",
    "print(df.head())\n"
   ]
  },
  {
   "cell_type": "code",
   "execution_count": 10,
   "id": "ecc0ba3f",
   "metadata": {},
   "outputs": [],
   "source": [
    "df.drop(columns=['Income'], inplace=True)"
   ]
  },
  {
   "cell_type": "code",
   "execution_count": 11,
   "id": "8c8c6258",
   "metadata": {},
   "outputs": [],
   "source": [
    "mapping = {'Healthy': 1, 'Average': 2, 'Unhealthy': 3}\n",
    "\n",
    "\n",
    "df['Diet'] = df['Diet'].map(mapping)\n"
   ]
  },
  {
   "cell_type": "code",
   "execution_count": 12,
   "id": "a71c454a",
   "metadata": {},
   "outputs": [
    {
     "name": "stdout",
     "output_type": "stream",
     "text": [
      "  Patient ID  Age     Sex  Cholesterol  Heart Rate  Diabetes  Family History  \\\n",
      "0    BMW7812   67    Male          208          72         0               0   \n",
      "1    CZE1114   21    Male          389          98         1               1   \n",
      "2    BNI9906   21  Female          324          72         1               0   \n",
      "3    JLN3497   84    Male          383          73         1               1   \n",
      "4    GFO8847   66    Male          318          93         1               1   \n",
      "\n",
      "   Smoking  Obesity  Alcohol Consumption  ...  Stress Level  \\\n",
      "0        1        0                    0  ...             9   \n",
      "1        1        1                    1  ...             1   \n",
      "2        0        0                    0  ...             9   \n",
      "3        1        0                    1  ...             9   \n",
      "4        1        1                    0  ...             6   \n",
      "\n",
      "   Sedentary Hours Per Day        BMI  Triglycerides  \\\n",
      "0                 6.615001  31.251233            286   \n",
      "1                 4.963459  27.194973            235   \n",
      "2                 9.463426  28.176571            587   \n",
      "3                 7.648981  36.464704            378   \n",
      "4                 1.514821  21.809144            231   \n",
      "\n",
      "   Physical Activity Days Per Week  Sleep Hours Per Day    Country  \\\n",
      "0                                0                    6  Argentina   \n",
      "1                                1                    7     Canada   \n",
      "2                                4                    4     France   \n",
      "3                                3                    4     Canada   \n",
      "4                                1                    5   Thailand   \n",
      "\n",
      "   Heart Attack Risk  Systolic  Diastolic  \n",
      "0                  0       158         88  \n",
      "1                  0       165         93  \n",
      "2                  0       174         99  \n",
      "3                  0       163        100  \n",
      "4                  0        91         88  \n",
      "\n",
      "[5 rows x 24 columns]\n"
     ]
    }
   ],
   "source": [
    "print(df.head())"
   ]
  },
  {
   "cell_type": "code",
   "execution_count": 13,
   "id": "9fd68a85",
   "metadata": {},
   "outputs": [
    {
     "name": "stdout",
     "output_type": "stream",
     "text": [
      "0       2\n",
      "1       3\n",
      "2       1\n",
      "3       2\n",
      "4       3\n",
      "       ..\n",
      "8758    1\n",
      "8759    1\n",
      "8760    2\n",
      "8761    3\n",
      "8762    1\n",
      "Name: Diet, Length: 8763, dtype: int64\n"
     ]
    }
   ],
   "source": [
    "print(df['Diet'])"
   ]
  },
  {
   "cell_type": "code",
   "execution_count": 15,
   "id": "bec924aa",
   "metadata": {},
   "outputs": [
    {
     "name": "stdout",
     "output_type": "stream",
     "text": [
      "  Patient ID  Age  Sex  Cholesterol  Heart Rate  Diabetes  Family History  \\\n",
      "0    BMW7812   67    0          208          72         0               0   \n",
      "1    CZE1114   21    0          389          98         1               1   \n",
      "2    BNI9906   21    1          324          72         1               0   \n",
      "3    JLN3497   84    0          383          73         1               1   \n",
      "4    GFO8847   66    0          318          93         1               1   \n",
      "\n",
      "   Smoking  Obesity  Alcohol Consumption  ...  Stress Level  \\\n",
      "0        1        0                    0  ...             9   \n",
      "1        1        1                    1  ...             1   \n",
      "2        0        0                    0  ...             9   \n",
      "3        1        0                    1  ...             9   \n",
      "4        1        1                    0  ...             6   \n",
      "\n",
      "   Sedentary Hours Per Day        BMI  Triglycerides  \\\n",
      "0                 6.615001  31.251233            286   \n",
      "1                 4.963459  27.194973            235   \n",
      "2                 9.463426  28.176571            587   \n",
      "3                 7.648981  36.464704            378   \n",
      "4                 1.514821  21.809144            231   \n",
      "\n",
      "   Physical Activity Days Per Week  Sleep Hours Per Day    Country  \\\n",
      "0                                0                    6  Argentina   \n",
      "1                                1                    7     Canada   \n",
      "2                                4                    4     France   \n",
      "3                                3                    4     Canada   \n",
      "4                                1                    5   Thailand   \n",
      "\n",
      "   Heart Attack Risk  Systolic  Diastolic  \n",
      "0                  0       158         88  \n",
      "1                  0       165         93  \n",
      "2                  0       174         99  \n",
      "3                  0       163        100  \n",
      "4                  0        91         88  \n",
      "\n",
      "[5 rows x 24 columns]\n"
     ]
    }
   ],
   "source": [
    "sex_mapping = {'Male': 0, 'Female': 1}\n",
    "\n",
    "\n",
    "df['Sex'] = df['Sex'].map(sex_mapping)\n",
    "\n",
    "\n",
    "print(df.head())\n"
   ]
  },
  {
   "cell_type": "code",
   "execution_count": 16,
   "id": "64fe06c3",
   "metadata": {},
   "outputs": [],
   "source": [
    "df.drop(columns=['Country'], inplace=True)\n"
   ]
  },
  {
   "cell_type": "code",
   "execution_count": 18,
   "id": "b3f7ff70",
   "metadata": {},
   "outputs": [],
   "source": [
    "df.drop(columns=[ 'Patient ID'], inplace=True)\n"
   ]
  },
  {
   "cell_type": "code",
   "execution_count": 20,
   "id": "f10bf975",
   "metadata": {},
   "outputs": [
    {
     "name": "stdout",
     "output_type": "stream",
     "text": [
      "   Age  Sex  Cholesterol  Heart Rate  Diabetes  Family History  Smoking  \\\n",
      "0   67    0    -0.369565          72         0               0        1   \n",
      "1   21    0     0.942029          98         1               1        1   \n",
      "2   21    1     0.471014          72         1               0        0   \n",
      "3   84    0     0.898551          73         1               1        1   \n",
      "4   66    0     0.427536          93         1               1        1   \n",
      "\n",
      "   Obesity  Alcohol Consumption  Exercise Hours Per Week  ...  Medication Use  \\\n",
      "0        0                    0                -0.586126  ...               0   \n",
      "1        1                    1                -0.820020  ...               0   \n",
      "2        0                    0                -0.793689  ...               1   \n",
      "3        0                    1                -0.023979  ...               0   \n",
      "4        1                    0                -0.423627  ...               0   \n",
      "\n",
      "   Stress Level  Sedentary Hours Per Day       BMI  Triglycerides  \\\n",
      "0             9                 0.113180  0.227694      -0.338939   \n",
      "1             1                -0.161148 -0.144385      -0.470893   \n",
      "2             9                 0.586314 -0.054343       0.439845   \n",
      "3             9                 0.284928  0.705924      -0.100906   \n",
      "4             6                -0.733980 -0.638425      -0.481242   \n",
      "\n",
      "   Physical Activity Days Per Week  Sleep Hours Per Day  Heart Attack Risk  \\\n",
      "0                                0                    6                  0   \n",
      "1                                1                    7                  0   \n",
      "2                                4                    4                  0   \n",
      "3                                3                    4                  0   \n",
      "4                                1                    5                  0   \n",
      "\n",
      "   Systolic  Diastolic  \n",
      "0  0.500000   0.115385  \n",
      "1  0.652174   0.307692  \n",
      "2  0.847826   0.538462  \n",
      "3  0.608696   0.576923  \n",
      "4 -0.956522   0.115385  \n",
      "\n",
      "[5 rows x 22 columns]\n"
     ]
    }
   ],
   "source": [
    "from sklearn.preprocessing import RobustScaler\n",
    "\n",
    "scaler = RobustScaler()\n",
    "\n",
    "\n",
    "columns_to_scale = ['Cholesterol', 'Exercise Hours Per Week', 'Sedentary Hours Per Day', 'Triglycerides', 'BMI' ,'Systolic',  'Diastolic']\n",
    "\n",
    "\n",
    "df[columns_to_scale] = scaler.fit_transform(df[columns_to_scale])\n",
    "\n",
    "\n",
    "print(df.head())\n"
   ]
  },
  {
   "cell_type": "code",
   "execution_count": 22,
   "id": "3d51b60a",
   "metadata": {},
   "outputs": [],
   "source": [
    "\n",
    "df.to_csv('preprocessed_data.csv', index=False)\n"
   ]
  },
  {
   "cell_type": "code",
   "execution_count": 23,
   "id": "cf117430",
   "metadata": {},
   "outputs": [],
   "source": [
    "scaler = RobustScaler()\n",
    "\n",
    "\n",
    "columns_to_scale = ['Sleep Hours Per Day', 'Heart Rate']\n",
    "\n",
    "\n",
    "df[columns_to_scale] = scaler.fit_transform(df[columns_to_scale])\n"
   ]
  },
  {
   "cell_type": "code",
   "execution_count": 24,
   "id": "bd5f1855",
   "metadata": {},
   "outputs": [
    {
     "name": "stdout",
     "output_type": "stream",
     "text": [
      "   Age  Sex  Cholesterol  Heart Rate  Diabetes  Family History  Smoking  \\\n",
      "0   67    0    -0.369565   -0.083333         0               0        1   \n",
      "1   21    0     0.942029    0.638889         1               1        1   \n",
      "2   21    1     0.471014   -0.083333         1               0        0   \n",
      "3   84    0     0.898551   -0.055556         1               1        1   \n",
      "4   66    0     0.427536    0.500000         1               1        1   \n",
      "\n",
      "   Obesity  Alcohol Consumption  Exercise Hours Per Week  ...  Medication Use  \\\n",
      "0        0                    0                -0.586126  ...               0   \n",
      "1        1                    1                -0.820020  ...               0   \n",
      "2        0                    0                -0.793689  ...               1   \n",
      "3        0                    1                -0.023979  ...               0   \n",
      "4        1                    0                -0.423627  ...               0   \n",
      "\n",
      "   Stress Level  Sedentary Hours Per Day       BMI  Triglycerides  \\\n",
      "0             9                 0.113180  0.227694      -0.338939   \n",
      "1             1                -0.161148 -0.144385      -0.470893   \n",
      "2             9                 0.586314 -0.054343       0.439845   \n",
      "3             9                 0.284928  0.705924      -0.100906   \n",
      "4             6                -0.733980 -0.638425      -0.481242   \n",
      "\n",
      "   Physical Activity Days Per Week  Sleep Hours Per Day  Heart Attack Risk  \\\n",
      "0                                0                -0.25                  0   \n",
      "1                                1                 0.00                  0   \n",
      "2                                4                -0.75                  0   \n",
      "3                                3                -0.75                  0   \n",
      "4                                1                -0.50                  0   \n",
      "\n",
      "   Systolic  Diastolic  \n",
      "0  0.500000   0.115385  \n",
      "1  0.652174   0.307692  \n",
      "2  0.847826   0.538462  \n",
      "3  0.608696   0.576923  \n",
      "4 -0.956522   0.115385  \n",
      "\n",
      "[5 rows x 22 columns]\n"
     ]
    }
   ],
   "source": [
    "print(df.head())"
   ]
  },
  {
   "cell_type": "code",
   "execution_count": 25,
   "id": "072b9b07",
   "metadata": {},
   "outputs": [],
   "source": [
    "\n",
    "df.to_csv('preprocessedHeartAttack_data.csv', index=False)\n"
   ]
  },
  {
   "cell_type": "code",
   "execution_count": null,
   "id": "8934ee45",
   "metadata": {},
   "outputs": [],
   "source": []
  }
 ],
 "metadata": {
  "kernelspec": {
   "display_name": "Python 3 (ipykernel)",
   "language": "python",
   "name": "python3"
  },
  "language_info": {
   "codemirror_mode": {
    "name": "ipython",
    "version": 3
   },
   "file_extension": ".py",
   "mimetype": "text/x-python",
   "name": "python",
   "nbconvert_exporter": "python",
   "pygments_lexer": "ipython3",
   "version": "3.9.13"
  }
 },
 "nbformat": 4,
 "nbformat_minor": 5
}
